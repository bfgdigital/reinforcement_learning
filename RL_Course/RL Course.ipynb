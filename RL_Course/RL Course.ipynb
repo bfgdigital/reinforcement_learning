{
 "cells": [
  {
   "cell_type": "code",
   "execution_count": 1,
   "id": "final-trust",
   "metadata": {},
   "outputs": [],
   "source": [
    "import gym"
   ]
  },
  {
   "cell_type": "code",
   "execution_count": 2,
   "id": "devoted-majority",
   "metadata": {},
   "outputs": [],
   "source": [
    "# gym.envs.registry.all()  # Shows all the environments"
   ]
  },
  {
   "cell_type": "markdown",
   "id": "bored-separation",
   "metadata": {},
   "source": [
    "#### To setup a reinforcement learning problem in gym, call `gym.make()` with the name of the problem"
   ]
  },
  {
   "cell_type": "code",
   "execution_count": 3,
   "id": "piano-genius",
   "metadata": {},
   "outputs": [],
   "source": [
    "env = gym.make(\"CartPole-v0\")"
   ]
  },
  {
   "cell_type": "markdown",
   "id": "brave-silence",
   "metadata": {},
   "source": [
    "#### To initialise the prob, call `env.reset()`\n",
    "-  Returns initial observation of the agent as a NumPy array, once the environemtn is initialised.\n",
    "- - Cart Position = (-2.4:2.4)\n",
    "- - Cart Velocity = (-inf:inf)\n",
    "- - Pole Angle = (-41.8:41.8)\n",
    "- - Pole Velocity At Tip = (-inf:inf)"
   ]
  },
  {
   "cell_type": "code",
   "execution_count": 4,
   "id": "joined-inspector",
   "metadata": {},
   "outputs": [
    {
     "name": "stdout",
     "output_type": "stream",
     "text": [
      "[ 0.03799467  0.00348804  0.03744493 -0.01553074]\n"
     ]
    }
   ],
   "source": [
    "observation = env.reset()  # Numpy Array\n",
    "print(observation)"
   ]
  },
  {
   "cell_type": "markdown",
   "id": "together-voltage",
   "metadata": {},
   "source": [
    "#### To query the nature of the observation, call `env.observation_space`\n",
    "- describes the specific types within the environment array"
   ]
  },
  {
   "cell_type": "code",
   "execution_count": 17,
   "id": "wanted-indonesia",
   "metadata": {},
   "outputs": [
    {
     "data": {
      "text/plain": [
       "Box(-3.4028234663852886e+38, 3.4028234663852886e+38, (4,), float32)"
      ]
     },
     "execution_count": 17,
     "metadata": {},
     "output_type": "execute_result"
    }
   ],
   "source": [
    "env.observation_space "
   ]
  },
  {
   "cell_type": "markdown",
   "id": "joined-evening",
   "metadata": {},
   "source": [
    "#### To query the nature of the Agents actions, call `env.action_space`\n",
    "- 'Discrete' means that the Agents actions can be represented by a variable that takes discrete value, as opposed to a continuous one.\n",
    "- 'Discrete(2)' means that the agent can take two discrete actions: '0' and '1'.\n",
    "- 'Discrete(n)' is the total number of discrete actions an agent can take."
   ]
  },
  {
   "cell_type": "code",
   "execution_count": 6,
   "id": "third-positive",
   "metadata": {},
   "outputs": [
    {
     "data": {
      "text/plain": [
       "Discrete(2)"
      ]
     },
     "execution_count": 6,
     "metadata": {},
     "output_type": "execute_result"
    }
   ],
   "source": [
    "env.action_space"
   ]
  },
  {
   "cell_type": "markdown",
   "id": "seventh-shore",
   "metadata": {},
   "source": [
    "### To take an action, call `env.step()` with the action as an argument.\n",
    "- The **first** element returned by the `env.step()` function is the new environment state.\n",
    "- The **second** element returned by the `env.step()` function is called the reward. The reward is a judgement of the environment state and the action at any time step.\n",
    "- In other reinforcement learning problems, we may also judge the agent's actions in a given environment state. So the reward function is usually like this: `rewards(observation, action)`. But in `CartPole-V0`, we oly judge the environment states, and don't judge the actions."
   ]
  },
  {
   "cell_type": "code",
   "execution_count": 7,
   "id": "attractive-criminal",
   "metadata": {},
   "outputs": [
    {
     "name": "stdout",
     "output_type": "stream",
     "text": [
      "Observation: [ 0.03806443 -0.19215035  0.03713431  0.28872738]\n",
      "Reward: 1.0\n"
     ]
    }
   ],
   "source": [
    "observation, reward, _, _ =  env.step(0)  # _ is an unused var.\n",
    "print(f'Observation: {observation}\\nReward: {reward}')"
   ]
  },
  {
   "cell_type": "code",
   "execution_count": 8,
   "id": "composite-pillow",
   "metadata": {},
   "outputs": [
    {
     "data": {
      "text/plain": [
       "(array([ 0.03422142, -0.38778162,  0.04290886,  0.59288697]), 1.0, False, {})"
      ]
     },
     "execution_count": 8,
     "metadata": {},
     "output_type": "execute_result"
    }
   ],
   "source": [
    "env.step(0)"
   ]
  },
  {
   "cell_type": "code",
   "execution_count": 9,
   "id": "adaptive-major",
   "metadata": {},
   "outputs": [
    {
     "data": {
      "text/plain": [
       "(array([ 0.02646579, -0.19328577,  0.0547666 ,  0.31402305]), 1.0, False, {})"
      ]
     },
     "execution_count": 9,
     "metadata": {},
     "output_type": "execute_result"
    }
   ],
   "source": [
    "env.step(1)"
   ]
  },
  {
   "cell_type": "code",
   "execution_count": 10,
   "id": "harmful-pursuit",
   "metadata": {},
   "outputs": [],
   "source": [
    "# env.step(2)  # Invalid action. Beyond the limits of action space"
   ]
  },
  {
   "cell_type": "markdown",
   "id": "extra-detective",
   "metadata": {},
   "source": [
    "### The rewards is a judgement of the environment state and the action at any time step.\n",
    "- the environment state may be judged as good/bad.\n",
    "- the action in that environemtn state may also be judged as good/bad.\n",
    "- The judgement depends on the goal."
   ]
  },
  {
   "cell_type": "markdown",
   "id": "wired-brook",
   "metadata": {},
   "source": [
    "### The learning goal (balancing the pole without crashing) is equivalent to maximizing the reward function over time.\n",
    "- Max reward is +1\n",
    "- The more +1's you get, the more often the pole stays upright.\n",
    "- In the extreme case (maximization), you get +1 every time step and therefore the pole always stays upright."
   ]
  },
  {
   "cell_type": "markdown",
   "id": "quality-drawing",
   "metadata": {},
   "source": [
    "### Other environments with different goals\n",
    "- Walking\n",
    "- Driving\n",
    "- Playing a video game\n",
    "- Making money in stock market\n",
    "\n",
    "### In any RL problem, the first step is to express the goal as the maximisation of some reward function.\n",
    "- gym already provides such a reward function for all the environments."
   ]
  },
  {
   "cell_type": "markdown",
   "id": "assigned-tuition",
   "metadata": {},
   "source": [
    "### To get a random valid action, sampled with equal probability, call `env.action_space.sample()`."
   ]
  },
  {
   "cell_type": "code",
   "execution_count": 11,
   "id": "british-helicopter",
   "metadata": {},
   "outputs": [
    {
     "data": {
      "text/plain": [
       "0"
      ]
     },
     "execution_count": 11,
     "metadata": {},
     "output_type": "execute_result"
    }
   ],
   "source": [
    "env.action_space.sample()"
   ]
  },
  {
   "cell_type": "code",
   "execution_count": null,
   "id": "mediterranean-breakfast",
   "metadata": {},
   "outputs": [],
   "source": []
  },
  {
   "cell_type": "markdown",
   "id": "unsigned-security",
   "metadata": {},
   "source": [
    "### Taking multiple actions in a loop. Call `env_render()` after each action to update the enviroment state and visualise the dynamics in real time.\n",
    "- Use `time.sleep()` to see the animation in slow-motion."
   ]
  },
  {
   "cell_type": "code",
   "execution_count": 14,
   "id": "romance-ethnic",
   "metadata": {},
   "outputs": [
    {
     "name": "stdout",
     "output_type": "stream",
     "text": [
      "Pole angle: 0.60, Reward: 1.0\n",
      "Pole angle: 0.61, Reward: 1.0\n",
      "Pole angle: 0.96, Reward: 1.0\n",
      "Pole angle: 1.64, Reward: 1.0\n",
      "Pole angle: 2.67, Reward: 1.0\n",
      "Pole angle: 4.04, Reward: 1.0\n",
      "Pole angle: 5.77, Reward: 1.0\n",
      "Pole angle: 7.85, Reward: 1.0\n",
      "Pole angle: 10.30, Reward: 1.0\n",
      "Pole angle: 13.13, Reward: 0.0\n",
      "Pole angle: 16.36, Reward: 0.0\n",
      "Pole angle: 19.99, Reward: 0.0\n",
      "Pole angle: 24.03, Reward: 0.0\n",
      "Pole angle: 28.51, Reward: 0.0\n",
      "Pole angle: 33.42, Reward: 0.0\n",
      "Pole angle: 38.78, Reward: 0.0\n",
      "Pole angle: 44.59, Reward: 0.0\n",
      "Pole angle: 50.86, Reward: 0.0\n",
      "Pole angle: 57.58, Reward: 0.0\n",
      "Pole angle: 64.74, Reward: 0.0\n",
      "Pole angle: 72.33, Reward: 0.0\n",
      "Pole angle: 80.34, Reward: 0.0\n",
      "Pole angle: 88.75, Reward: 0.0\n",
      "Pole angle: 97.53, Reward: 0.0\n",
      "Pole angle: 106.65, Reward: 0.0\n",
      "Pole angle: 116.08, Reward: 0.0\n",
      "Pole angle: 125.77, Reward: 0.0\n",
      "Pole angle: 135.67, Reward: 0.0\n",
      "Pole angle: 145.72, Reward: 0.0\n",
      "Pole angle: 155.85, Reward: 0.0\n"
     ]
    }
   ],
   "source": [
    "import time\n",
    "from math import pi\n",
    "\n",
    "observation = env.reset()\n",
    "\n",
    "for _ in range(30):  # 30 timesteps.\n",
    "    pole_angle_in_radians = observation[2]\n",
    "    # 360º == 2*π radians.\n",
    "    pole_angle_in_degrees = (pole_angle_in_radians * 360) / (2 * pi)\n",
    "    observation, reward, _, _ = env.step(0)\n",
    "    print(f'Pole angle: {pole_angle_in_degrees:.2f}, Reward: {reward}')\n",
    "    env.render()\n",
    "    time.sleep(0.1);"
   ]
  },
  {
   "cell_type": "code",
   "execution_count": null,
   "id": "fluid-photograph",
   "metadata": {},
   "outputs": [],
   "source": []
  },
  {
   "cell_type": "code",
   "execution_count": null,
   "id": "above-musician",
   "metadata": {},
   "outputs": [],
   "source": []
  },
  {
   "cell_type": "markdown",
   "id": "distinct-damage",
   "metadata": {},
   "source": [
    "### To get visual representation of the problem after setup call `env.render()`"
   ]
  },
  {
   "cell_type": "code",
   "execution_count": 15,
   "id": "bound-committee",
   "metadata": {},
   "outputs": [
    {
     "data": {
      "text/plain": [
       "True"
      ]
     },
     "execution_count": 15,
     "metadata": {},
     "output_type": "execute_result"
    }
   ],
   "source": [
    "env.render()"
   ]
  },
  {
   "cell_type": "code",
   "execution_count": 16,
   "id": "intermediate-torture",
   "metadata": {},
   "outputs": [],
   "source": [
    "env.close()"
   ]
  },
  {
   "cell_type": "code",
   "execution_count": null,
   "id": "roman-combination",
   "metadata": {},
   "outputs": [],
   "source": []
  }
 ],
 "metadata": {
  "kernelspec": {
   "display_name": "Python 3 (ipykernel)",
   "language": "python",
   "name": "python3"
  },
  "language_info": {
   "codemirror_mode": {
    "name": "ipython",
    "version": 3
   },
   "file_extension": ".py",
   "mimetype": "text/x-python",
   "name": "python",
   "nbconvert_exporter": "python",
   "pygments_lexer": "ipython3",
   "version": "3.8.10"
  }
 },
 "nbformat": 4,
 "nbformat_minor": 5
}
