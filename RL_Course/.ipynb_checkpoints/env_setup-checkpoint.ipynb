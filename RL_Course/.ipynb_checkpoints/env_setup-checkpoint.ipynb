{
 "cells": [
  {
   "cell_type": "code",
   "execution_count": 1,
   "id": "framed-weapon",
   "metadata": {},
   "outputs": [],
   "source": [
    "import gym"
   ]
  },
  {
   "cell_type": "code",
   "execution_count": 3,
   "id": "united-inquiry",
   "metadata": {},
   "outputs": [],
   "source": [
    "# gym.envs.registry.all()  # Shows all the environments"
   ]
  },
  {
   "cell_type": "markdown",
   "id": "multiple-spanish",
   "metadata": {},
   "source": [
    "#### To setup a reinforcement learning problem in gym, call gym.make() with the name of the problem"
   ]
  },
  {
   "cell_type": "code",
   "execution_count": 5,
   "id": "wrapped-steam",
   "metadata": {},
   "outputs": [],
   "source": [
    "env = gym.make(\"CartPole-v0\")"
   ]
  },
  {
   "cell_type": "markdown",
   "id": "statewide-warrant",
   "metadata": {},
   "source": [
    "#### To initialise the prob, call 'env.reset()'"
   ]
  },
  {
   "cell_type": "code",
   "execution_count": 6,
   "id": "through-solution",
   "metadata": {},
   "outputs": [
    {
     "data": {
      "text/plain": [
       "array([-0.04222992, -0.02623178,  0.0118948 , -0.03667221])"
      ]
     },
     "execution_count": 6,
     "metadata": {},
     "output_type": "execute_result"
    }
   ],
   "source": [
    "env.reset()"
   ]
  },
  {
   "cell_type": "code",
   "execution_count": null,
   "id": "danish-affair",
   "metadata": {},
   "outputs": [],
   "source": []
  }
 ],
 "metadata": {
  "kernelspec": {
   "display_name": "Python 3",
   "language": "python",
   "name": "python3"
  },
  "language_info": {
   "codemirror_mode": {
    "name": "ipython",
    "version": 3
   },
   "file_extension": ".py",
   "mimetype": "text/x-python",
   "name": "python",
   "nbconvert_exporter": "python",
   "pygments_lexer": "ipython3",
   "version": "3.8.7"
  }
 },
 "nbformat": 4,
 "nbformat_minor": 5
}
