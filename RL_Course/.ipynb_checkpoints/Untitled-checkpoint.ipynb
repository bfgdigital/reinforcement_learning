{
 "cells": [
  {
   "cell_type": "code",
   "execution_count": 20,
   "id": "peaceful-restaurant",
   "metadata": {},
   "outputs": [],
   "source": [
    "import gym"
   ]
  },
  {
   "cell_type": "code",
   "execution_count": 21,
   "id": "japanese-yellow",
   "metadata": {},
   "outputs": [],
   "source": [
    "# gym.envs.registry.all()  # Shows all the environments"
   ]
  },
  {
   "cell_type": "markdown",
   "id": "neutral-helmet",
   "metadata": {},
   "source": [
    "#### To setup a reinforcement learning problem in gym, call `gym.make()` with the name of the problem"
   ]
  },
  {
   "cell_type": "code",
   "execution_count": 22,
   "id": "complete-sensitivity",
   "metadata": {},
   "outputs": [],
   "source": [
    "env = gym.make(\"CartPole-v0\")"
   ]
  },
  {
   "cell_type": "markdown",
   "id": "silver-argument",
   "metadata": {},
   "source": [
    "#### To initialise the prob, call `env.reset()`\n",
    "-  Returns initial observation of the agent as a NumPy array, once the environemtn is initialised.\n",
    "- - Cart Position = (-2.4:2.4)\n",
    "- - Cart Velocity = (-inf:inf)\n",
    "- - Pole Angle = (-41.8:41.8)\n",
    "- - Pole Velocity At Tip = (-inf:inf)"
   ]
  },
  {
   "cell_type": "code",
   "execution_count": 27,
   "id": "expensive-journalist",
   "metadata": {},
   "outputs": [
    {
     "name": "stdout",
     "output_type": "stream",
     "text": [
      "[-0.0462211  -0.00171908  0.03678178 -0.04742402]\n"
     ]
    }
   ],
   "source": [
    "observation = env.reset()  # Numpy Array\n",
    "print(observation)"
   ]
  },
  {
   "cell_type": "markdown",
   "id": "processed-evans",
   "metadata": {},
   "source": [
    "#### To query the nature of the observation, call `env.observation_space`\n",
    "- describes the specific types within the environment array"
   ]
  },
  {
   "cell_type": "code",
   "execution_count": 24,
   "id": "baking-moral",
   "metadata": {},
   "outputs": [
    {
     "data": {
      "text/plain": [
       "Box(-3.4028234663852886e+38, 3.4028234663852886e+38, (4,), float32)"
      ]
     },
     "execution_count": 24,
     "metadata": {},
     "output_type": "execute_result"
    }
   ],
   "source": [
    "env.observation_space "
   ]
  },
  {
   "cell_type": "markdown",
   "id": "derived-madison",
   "metadata": {},
   "source": [
    "#### To query the nature of the Agents actions, call `env.action_space`\n",
    "- 'Discrete' means that the Agents actions can be represented by a variable that takes discrete value, as opposed to a continuous one.\n",
    "- 'Discrete(2)' means that the agent can take two discrete actions: '0' and '1'.\n",
    "- 'Discrete(n)' is the total number of discrete actions an agent can take."
   ]
  },
  {
   "cell_type": "code",
   "execution_count": 25,
   "id": "reasonable-attack",
   "metadata": {},
   "outputs": [
    {
     "data": {
      "text/plain": [
       "Discrete(2)"
      ]
     },
     "execution_count": 25,
     "metadata": {},
     "output_type": "execute_result"
    }
   ],
   "source": [
    "env.action_space"
   ]
  },
  {
   "cell_type": "markdown",
   "id": "acute-supplement",
   "metadata": {},
   "source": [
    "### To take an action, call `env.step()` with the action as an argument.\n",
    "- The **first** element returned by the `env.step()` function is the new environment state.\n",
    "- The **second** element returned by the `env.step()` function is called the reward. The reward is a judgement of the environment state and the action at any time step.\n",
    "- In other reinforcement learning problems, we may also judge the agent's actions in a given environment state. So the reward function is usually like this: `rewards(observation, action)`. But in `CartPole-V0`, we oly judge the environment states, and don't judge the actions."
   ]
  },
  {
   "cell_type": "code",
   "execution_count": 31,
   "id": "turkish-banner",
   "metadata": {},
   "outputs": [
    {
     "name": "stdout",
     "output_type": "stream",
     "text": [
      "Observation: [-1.96700711 -5.65253414  3.42787539  7.8635857 ]\n",
      "Reward: 0.0\n"
     ]
    }
   ],
   "source": [
    "observation, reward, _, _ = env.step(0)\n",
    "print(f'Observation: {observation}\\nReward: {reward}')"
   ]
  },
  {
   "cell_type": "code",
   "execution_count": 10,
   "id": "horizontal-eugene",
   "metadata": {},
   "outputs": [
    {
     "data": {
      "text/plain": [
       "(array([ 0.01567138, -0.19499978, -0.0426572 ,  0.28009863]), 1.0, False, {})"
      ]
     },
     "execution_count": 10,
     "metadata": {},
     "output_type": "execute_result"
    }
   ],
   "source": [
    "env.step(0)"
   ]
  },
  {
   "cell_type": "code",
   "execution_count": 11,
   "id": "dental-venice",
   "metadata": {},
   "outputs": [
    {
     "data": {
      "text/plain": [
       "(array([ 0.01177138,  0.00070389, -0.03705523, -0.02572725]), 1.0, False, {})"
      ]
     },
     "execution_count": 11,
     "metadata": {},
     "output_type": "execute_result"
    }
   ],
   "source": [
    "env.step(1)"
   ]
  },
  {
   "cell_type": "code",
   "execution_count": 13,
   "id": "established-processor",
   "metadata": {},
   "outputs": [],
   "source": [
    "# env.step(2)  # Invalid action. Beyond the limits of action space"
   ]
  },
  {
   "cell_type": "markdown",
   "id": "essential-afghanistan",
   "metadata": {},
   "source": [
    "### The rewards is a judgement of the environment state and the action at any time step.\n",
    "- the environment state may be judged as good/bad.\n",
    "- the action in that environemtn state may also be judged as good/bad.\n",
    "- The judgement depends on the goal."
   ]
  },
  {
   "cell_type": "markdown",
   "id": "northern-drain",
   "metadata": {},
   "source": [
    "### The learning goal (balancing the pole without crashing) is equivalent to maximizing the reward function over time.\n",
    "- Max reward is +1\n",
    "- The more +1's you get, the more often the pole stays upright.\n",
    "- In the extreme case (maximization), you get +1 every time step and therefore the pole always stays upright."
   ]
  },
  {
   "cell_type": "markdown",
   "id": "ongoing-istanbul",
   "metadata": {},
   "source": [
    "### Other environments with different goals\n",
    "- Walking\n",
    "- Driving\n",
    "- Playing a video game\n",
    "- Making money in stock market\n",
    "\n",
    "### In any RL problem, the first step is to express the goal as the maximisation of some reward function.\n",
    "- gym already provides such a reward function for all the environments."
   ]
  },
  {
   "cell_type": "markdown",
   "id": "distributed-jumping",
   "metadata": {},
   "source": [
    "### To get a random valid action, sampled with equal probability, call `env.action_space.sample()`."
   ]
  },
  {
   "cell_type": "code",
   "execution_count": 15,
   "id": "educational-copying",
   "metadata": {},
   "outputs": [
    {
     "data": {
      "text/plain": [
       "0"
      ]
     },
     "execution_count": 15,
     "metadata": {},
     "output_type": "execute_result"
    }
   ],
   "source": [
    "env.action_space.sample()"
   ]
  },
  {
   "cell_type": "code",
   "execution_count": null,
   "id": "bigger-isolation",
   "metadata": {},
   "outputs": [],
   "source": []
  },
  {
   "cell_type": "markdown",
   "id": "light-imperial",
   "metadata": {},
   "source": [
    "### Taking multiple actions in a loop. Call `env_render()` after each action to update the enviroment state and visualise the dynamics in real time.\n",
    "- Use `time.sleep()` to see the animation in slow-motion."
   ]
  },
  {
   "cell_type": "code",
   "execution_count": 46,
   "id": "personal-ladder",
   "metadata": {},
   "outputs": [
    {
     "name": "stdout",
     "output_type": "stream",
     "text": [
      "Pole angle: -1.36, Reward: 1.0\n",
      "Pole angle: -1.32, Reward: 1.0\n",
      "Pole angle: -0.97, Reward: 1.0\n",
      "Pole angle: -0.28, Reward: 1.0\n",
      "Pole angle: 0.73, Reward: 1.0\n",
      "Pole angle: 2.08, Reward: 1.0\n",
      "Pole angle: 3.77, Reward: 1.0\n",
      "Pole angle: 5.81, Reward: 1.0\n",
      "Pole angle: 8.20, Reward: 1.0\n",
      "Pole angle: 10.97, Reward: 1.0\n",
      "Pole angle: 14.11, Reward: 0.0\n",
      "Pole angle: 17.65, Reward: 0.0\n",
      "Pole angle: 21.60, Reward: 0.0\n",
      "Pole angle: 25.97, Reward: 0.0\n",
      "Pole angle: 30.77, Reward: 0.0\n",
      "Pole angle: 36.01, Reward: 0.0\n",
      "Pole angle: 41.70, Reward: 0.0\n",
      "Pole angle: 47.85, Reward: 0.0\n",
      "Pole angle: 54.44, Reward: 0.0\n",
      "Pole angle: 61.49, Reward: 0.0\n",
      "Pole angle: 68.97, Reward: 0.0\n",
      "Pole angle: 76.88, Reward: 0.0\n",
      "Pole angle: 85.19, Reward: 0.0\n",
      "Pole angle: 93.88, Reward: 0.0\n",
      "Pole angle: 102.93, Reward: 0.0\n",
      "Pole angle: 112.30, Reward: 0.0\n",
      "Pole angle: 121.95, Reward: 0.0\n",
      "Pole angle: 131.84, Reward: 0.0\n",
      "Pole angle: 141.90, Reward: 0.0\n",
      "Pole angle: 152.07, Reward: 0.0\n"
     ]
    }
   ],
   "source": [
    "import time\n",
    "from math import pi\n",
    "\n",
    "observation = env.reset()\n",
    "\n",
    "for _ in range(30):  # 30 timesteps.\n",
    "    pole_angle_in_radians = observation[2]\n",
    "    # 360º == 2*π radians.\n",
    "    pole_angle_in_degrees = (pole_angle_in_radians * 360) / (2 * pi)\n",
    "    observation, reward, _, _ = env.step(0)\n",
    "    print(f'Pole angle: {pole_angle_in_degrees:.2f}, Reward: {reward}')\n",
    "    env.render()\n",
    "    time.sleep(0.1);"
   ]
  },
  {
   "cell_type": "code",
   "execution_count": null,
   "id": "revised-malawi",
   "metadata": {},
   "outputs": [],
   "source": []
  },
  {
   "cell_type": "code",
   "execution_count": null,
   "id": "republican-ecology",
   "metadata": {},
   "outputs": [],
   "source": []
  },
  {
   "cell_type": "markdown",
   "id": "trying-canberra",
   "metadata": {},
   "source": [
    "### To get visual representation of the problem after setup call `env.render()`"
   ]
  },
  {
   "cell_type": "code",
   "execution_count": 5,
   "id": "posted-stick",
   "metadata": {},
   "outputs": [
    {
     "data": {
      "text/plain": [
       "True"
      ]
     },
     "execution_count": 5,
     "metadata": {},
     "output_type": "execute_result"
    }
   ],
   "source": [
    "env.render()"
   ]
  },
  {
   "cell_type": "code",
   "execution_count": 7,
   "id": "horizontal-woman",
   "metadata": {},
   "outputs": [],
   "source": [
    "env.close()"
   ]
  },
  {
   "cell_type": "code",
   "execution_count": null,
   "id": "behavioral-bibliography",
   "metadata": {},
   "outputs": [],
   "source": []
  }
 ],
 "metadata": {
  "kernelspec": {
   "display_name": "rl",
   "language": "python",
   "name": "rl"
  },
  "language_info": {
   "codemirror_mode": {
    "name": "ipython",
    "version": 3
   },
   "file_extension": ".py",
   "mimetype": "text/x-python",
   "name": "python",
   "nbconvert_exporter": "python",
   "pygments_lexer": "ipython3",
   "version": "3.8.7"
  }
 },
 "nbformat": 4,
 "nbformat_minor": 5
}
