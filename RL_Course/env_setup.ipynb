{
 "cells": [
  {
   "cell_type": "code",
   "execution_count": 2,
   "id": "discrete-repair",
   "metadata": {},
   "outputs": [],
   "source": [
    "import gym"
   ]
  },
  {
   "cell_type": "code",
   "execution_count": 3,
   "id": "advance-envelope",
   "metadata": {},
   "outputs": [],
   "source": [
    "# gym.envs.registry.all()  # Shows all the environments"
   ]
  },
  {
   "cell_type": "markdown",
   "id": "affiliated-treatment",
   "metadata": {},
   "source": [
    "#### To setup a reinforcement learning problem in gym, call gym.make() with the name of the problem"
   ]
  },
  {
   "cell_type": "code",
   "execution_count": 4,
   "id": "military-timing",
   "metadata": {},
   "outputs": [],
   "source": [
    "env = gym.make(\"CartPole-v0\")"
   ]
  },
  {
   "cell_type": "markdown",
   "id": "scheduled-boulder",
   "metadata": {},
   "source": [
    "#### To initialise the prob, call 'env.reset()'"
   ]
  },
  {
   "cell_type": "code",
   "execution_count": 5,
   "id": "roman-manchester",
   "metadata": {},
   "outputs": [
    {
     "data": {
      "text/plain": [
       "array([ 0.02990583, -0.0134133 , -0.0104496 ,  0.03068719])"
      ]
     },
     "execution_count": 5,
     "metadata": {},
     "output_type": "execute_result"
    }
   ],
   "source": [
    "env.reset()"
   ]
  },
  {
   "cell_type": "markdown",
   "id": "hydraulic-phenomenon",
   "metadata": {},
   "source": [
    "#### To get visual representation of the problem after setup call 'env.render()'"
   ]
  },
  {
   "cell_type": "code",
   "execution_count": 6,
   "id": "settled-ready",
   "metadata": {},
   "outputs": [
    {
     "data": {
      "text/plain": [
       "True"
      ]
     },
     "execution_count": 6,
     "metadata": {},
     "output_type": "execute_result"
    }
   ],
   "source": [
    "env.render()"
   ]
  },
  {
   "cell_type": "code",
   "execution_count": 7,
   "id": "incident-designation",
   "metadata": {},
   "outputs": [],
   "source": [
    "env.close()"
   ]
  },
  {
   "cell_type": "code",
   "execution_count": null,
   "id": "connected-trash",
   "metadata": {},
   "outputs": [],
   "source": []
  }
 ],
 "metadata": {
  "kernelspec": {
   "display_name": "Python 3 (ipykernel)",
   "language": "python",
   "name": "python3"
  },
  "language_info": {
   "codemirror_mode": {
    "name": "ipython",
    "version": 3
   },
   "file_extension": ".py",
   "mimetype": "text/x-python",
   "name": "python",
   "nbconvert_exporter": "python",
   "pygments_lexer": "ipython3",
   "version": "3.8.10"
  }
 },
 "nbformat": 4,
 "nbformat_minor": 5
}
