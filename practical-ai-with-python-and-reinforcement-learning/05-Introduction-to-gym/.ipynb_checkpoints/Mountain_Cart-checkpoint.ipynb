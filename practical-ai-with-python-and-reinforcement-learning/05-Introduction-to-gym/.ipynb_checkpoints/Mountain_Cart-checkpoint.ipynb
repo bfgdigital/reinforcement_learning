{
 "cells": [
  {
   "cell_type": "code",
   "execution_count": 1,
   "id": "17bfac4a-1a0c-46a7-94c0-2d7eadfb7021",
   "metadata": {},
   "outputs": [],
   "source": [
    "import time  # to slow down the game a little bit\n",
    "import gym"
   ]
  },
  {
   "cell_type": "code",
   "execution_count": 2,
   "id": "26486060-af5a-4c73-a63d-1d94e020d407",
   "metadata": {},
   "outputs": [],
   "source": [
    "env_name = \"MountainCar-v0\"  # Use the exact same name as stated on gym.openai\n",
    "env = gym.make(env_name)  # use gym.make to create your environment"
   ]
  },
  {
   "cell_type": "code",
   "execution_count": 3,
   "id": "406a084d-2659-4165-88f5-f191469dbdf4",
   "metadata": {},
   "outputs": [
    {
     "data": {
      "text/plain": [
       "[42]"
      ]
     },
     "execution_count": 3,
     "metadata": {},
     "output_type": "execute_result"
    }
   ],
   "source": [
    "# Set a random seed\n",
    "env.seed(42)  # to make sure that we all have the same initial state"
   ]
  },
  {
   "cell_type": "code",
   "execution_count": 4,
   "id": "2712e0ba-730f-4432-9261-2664a90161d6",
   "metadata": {},
   "outputs": [],
   "source": [
    "observation = env.reset() # reset internal values"
   ]
  },
  {
   "cell_type": "code",
   "execution_count": null,
   "id": "bc30160b-84bb-4604-a9ae-4ca387db5418",
   "metadata": {},
   "outputs": [
    {
     "name": "stdout",
     "output_type": "stream",
     "text": [
      "Observation: [-0.52415953  0.00101179], Reward:-1.0, Status:False, Info:{}\n",
      "Observation: [-0.52214353  0.002016  ], Reward:-1.0, Status:False, Info:{}\n",
      "Observation: [-0.51913845  0.00300509], Reward:-1.0, Status:False, Info:{}\n",
      "Observation: [-0.51516681  0.00397163], Reward:-1.0, Status:False, Info:{}\n",
      "Observation: [-0.51025841  0.0049084 ], Reward:-1.0, Status:False, Info:{}\n",
      "Observation: [-0.50445004  0.00580837], Reward:-1.0, Status:False, Info:{}\n",
      "Observation: [-0.4977852   0.00666484], Reward:-1.0, Status:False, Info:{}\n",
      "Observation: [-0.49031377  0.00747143], Reward:-1.0, Status:False, Info:{}\n",
      "Observation: [-0.48209156  0.00822221], Reward:-1.0, Status:False, Info:{}\n",
      "Observation: [-0.47317985  0.00891171], Reward:-1.0, Status:False, Info:{}\n",
      "Observation: [-0.46364485  0.00953501], Reward:-1.0, Status:False, Info:{}\n",
      "Observation: [-0.45355708  0.01008777], Reward:-1.0, Status:False, Info:{}\n",
      "Observation: [-0.44299076  0.01056632], Reward:-1.0, Status:False, Info:{}\n",
      "Observation: [-0.43202313  0.01096763], Reward:-1.0, Status:False, Info:{}\n",
      "Observation: [-0.42073371  0.01128942], Reward:-1.0, Status:False, Info:{}\n",
      "Observation: [-0.40920359  0.01153012], Reward:-1.0, Status:False, Info:{}\n",
      "Observation: [-0.39751469  0.0116889 ], Reward:-1.0, Status:False, Info:{}\n",
      "Observation: [-0.38574904  0.01176566], Reward:-1.0, Status:False, Info:{}\n",
      "Observation: [-0.37398804  0.011761  ], Reward:-1.0, Status:False, Info:{}\n",
      "Observation: [-0.36231182  0.01167622], Reward:-1.0, Status:False, Info:{}\n",
      "Observation: [-0.35079861  0.01151322], Reward:-1.0, Status:False, Info:{}\n",
      "Observation: [-0.33952412  0.01127449], Reward:-1.0, Status:False, Info:{}\n",
      "Observation: [-0.32856109  0.01096303], Reward:-1.0, Status:False, Info:{}\n",
      "Observation: [-0.31797879  0.0105823 ], Reward:-1.0, Status:False, Info:{}\n",
      "Observation: [-0.30784268  0.01013611], Reward:-1.0, Status:False, Info:{}\n",
      "Observation: [-0.2982141   0.00962858], Reward:-1.0, Status:False, Info:{}\n",
      "Observation: [-0.28915001  0.00906409], Reward:-1.0, Status:False, Info:{}\n",
      "Observation: [-0.28070286  0.00844715], Reward:-1.0, Status:False, Info:{}\n",
      "Observation: [-0.27292043  0.00778243], Reward:-1.0, Status:False, Info:{}\n",
      "Observation: [-0.26584582  0.00707461], Reward:-1.0, Status:False, Info:{}\n",
      "Observation: [-0.25951739  0.00632843], Reward:-1.0, Status:False, Info:{}\n",
      "Observation: [-0.25396878  0.00554861], Reward:-1.0, Status:False, Info:{}\n"
     ]
    }
   ],
   "source": [
    "for step in range(200):\n",
    "    env.render(mode='human')\n",
    "    # 0 accelerate left\n",
    "    # 1 don't accelerate\n",
    "    # 2 accelerate right\n",
    "    env.render(mode='human')\n",
    "    \n",
    "    action = 2 # we acc. to the right.\n",
    "    \n",
    "    observation, reward, done, info = env.step(action)\n",
    "    \n",
    "    print(f\"Observation: {observation}, Reward:{reward}, Status:{done}, Info:{info}\")\n",
    "    \n",
    "    time.sleep(0.5)  # wait half a second\n",
    "    \n",
    "env.close()"
   ]
  },
  {
   "cell_type": "code",
   "execution_count": null,
   "id": "f2328b14-b031-4a57-b11c-df755fad0618",
   "metadata": {},
   "outputs": [],
   "source": []
  }
 ],
 "metadata": {
  "kernelspec": {
   "display_name": "rl",
   "language": "python",
   "name": "rl"
  },
  "language_info": {
   "codemirror_mode": {
    "name": "ipython",
    "version": 3
   },
   "file_extension": ".py",
   "mimetype": "text/x-python",
   "name": "python",
   "nbconvert_exporter": "python",
   "pygments_lexer": "ipython3",
   "version": "3.8.10"
  }
 },
 "nbformat": 4,
 "nbformat_minor": 5
}
